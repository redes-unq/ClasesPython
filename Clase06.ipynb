{
  "nbformat": 4,
  "nbformat_minor": 0,
  "metadata": {
    "colab": {
      "name": "Clase06.ipynb",
      "provenance": [],
      "collapsed_sections": [
        "Er6Ca3QUQly2"
      ],
      "toc_visible": true
    },
    "kernelspec": {
      "name": "python3",
      "display_name": "Python 3"
    }
  },
  "cells": [
    {
      "cell_type": "markdown",
      "metadata": {
        "id": "9DsFQW4ZyJ3n",
        "colab_type": "text"
      },
      "source": [
        "<p><img alt=\"UNQ logo\" height=\"45px\" src=\"http://www.unq.edu.ar/images/logo_unqui_footer.png\" align=\"left\" hspace=\"10px\" vspace=\"0px\"></p><h1>Redes Neuronales y Lógica Difusa</h1>"
      ]
    },
    {
      "cell_type": "markdown",
      "metadata": {
        "id": "DpSPpy6gQvSx",
        "colab_type": "text"
      },
      "source": [
        "En esta clase vamos a hacer uso de un módulo muy potente y útil llamado [*Tensorflow*](https://www.tensorflow.org/learn). Si bien su uso puede ser un poco menos natural para quienes están llegando a **Python** viniendo de herramientas como **MATLAB**, vamos a intentar en esta clase mostrar algunos ejemplos básicos de uso para que se comprenda su funcionamiento.\n",
        "\n",
        "Vamos a introducir también en la clase a un nuevo módulo para la materia llamado [*Pandas*](https://pandas.pydata.org/), el cual nos permite manejar datos de forma potente, fácil y sencilla."
      ]
    },
    {
      "cell_type": "markdown",
      "metadata": {
        "id": "N4_qyJ6WMCXH",
        "colab_type": "text"
      },
      "source": [
        "## Back-propagation serie 2"
      ]
    },
    {
      "cell_type": "markdown",
      "metadata": {
        "id": "T7XYMp-O0D_K",
        "colab_type": "text"
      },
      "source": [
        "Cargo [*Tensorboard*](https://www.tensorflow.org/tensorboard), la herramienta gráfica de visualización de modelos de *Tensorflow*."
      ]
    },
    {
      "cell_type": "code",
      "metadata": {
        "id": "i_IIj1CT0Bgu",
        "colab_type": "code",
        "colab": {}
      },
      "source": [
        "%load_ext tensorboard"
      ],
      "execution_count": null,
      "outputs": []
    },
    {
      "cell_type": "markdown",
      "metadata": {
        "id": "pgNWVtlY0h1A",
        "colab_type": "text"
      },
      "source": [
        "Borro archivos de logs de sesiones previas"
      ]
    },
    {
      "cell_type": "code",
      "metadata": {
        "id": "bol__vvV0gBG",
        "colab_type": "code",
        "colab": {}
      },
      "source": [
        "!rm -rf ./logs/"
      ],
      "execution_count": null,
      "outputs": []
    },
    {
      "cell_type": "markdown",
      "metadata": {
        "id": "ISje63YTvnHe",
        "colab_type": "text"
      },
      "source": [
        "Importo módulos a utilizar"
      ]
    },
    {
      "cell_type": "code",
      "metadata": {
        "id": "UdcI7yLeNnW6",
        "colab_type": "code",
        "colab": {}
      },
      "source": [
        "import numpy as np\n",
        "import pandas as pd\n",
        "import datetime\n",
        "\n",
        "from tensorflow import keras\n",
        "from tensorflow.keras import layers"
      ],
      "execution_count": null,
      "outputs": []
    },
    {
      "cell_type": "markdown",
      "metadata": {
        "id": "ECnagorjvroj",
        "colab_type": "text"
      },
      "source": [
        "Genero las series temporales"
      ]
    },
    {
      "cell_type": "code",
      "metadata": {
        "id": "o9uog3JtNqlb",
        "colab_type": "code",
        "colab": {}
      },
      "source": [
        "# Ejemplo de Behera\n",
        "sigmaRuido = 0.2\n",
        "\n",
        "# Genero serie temporal\n",
        "t = np.zeros((1, 1000))\n",
        "u = np.zeros((1, 1000))\n",
        "d = np.zeros((1, 1000))\n",
        "d[0, 0] = 0.5\n",
        "p = np.zeros((2, 1000))\n",
        "\n",
        "for k in range(1000-1):\n",
        "    u[0, k] = 6 * np.random.rand() - 3\n",
        "    d[0, k + 1] = d[0, k]/(1 + d[0, k]**2) + u[0, k]**3\n",
        "    p[0, k] = u[0, k]\n",
        "    p[1, k] = d[0, k]\n",
        "    t[0, k] = d[0, k + 1] + np.random.normal(0, sigmaRuido)"
      ],
      "execution_count": null,
      "outputs": []
    },
    {
      "cell_type": "markdown",
      "metadata": {
        "id": "oR1pb4AxvwCT",
        "colab_type": "text"
      },
      "source": [
        "Creo el dataframe y miro los primeros datos para ver que tenga la forma esperada"
      ]
    },
    {
      "cell_type": "code",
      "metadata": {
        "id": "UIjjseTs8GPY",
        "colab_type": "code",
        "colab": {}
      },
      "source": [
        "dataset = pd.DataFrame({'Entrada 1': p[0, :], 'Entrada 2': p[1,:], 'Salida': t[0, :]})\n",
        "\n",
        "dataset.head()"
      ],
      "execution_count": null,
      "outputs": []
    },
    {
      "cell_type": "markdown",
      "metadata": {
        "id": "ErvKoT6fv21r",
        "colab_type": "text"
      },
      "source": [
        "Separo los datos de entrenamiento de los de pruebas"
      ]
    },
    {
      "cell_type": "code",
      "metadata": {
        "id": "-N0ORxjRAnK3",
        "colab_type": "code",
        "colab": {}
      },
      "source": [
        "train_dataset = dataset.sample(frac=0.8,random_state=0)\n",
        "test_dataset = dataset.drop(train_dataset.index)\n",
        "print(train_dataset)"
      ],
      "execution_count": null,
      "outputs": []
    },
    {
      "cell_type": "markdown",
      "metadata": {
        "colab_type": "text",
        "id": "2EE-MrudGVmN"
      },
      "source": [
        "Veo las estadísticas de los datos"
      ]
    },
    {
      "cell_type": "code",
      "metadata": {
        "id": "Ca3uuRCSRUxf",
        "colab_type": "code",
        "colab": {}
      },
      "source": [
        "\n",
        "train_stats = train_dataset.describe()\n",
        "train_stats.pop(\"Salida\")\n",
        "train_stats = train_stats.transpose()\n",
        "train_stats"
      ],
      "execution_count": null,
      "outputs": []
    },
    {
      "cell_type": "markdown",
      "metadata": {
        "id": "vulGR5xfv-Ve",
        "colab_type": "text"
      },
      "source": [
        "Separo el valor objetivo, o la \"etiqueta\" de las características. Esta etiqueta es el valor que entrenará el modelo para predecir."
      ]
    },
    {
      "cell_type": "code",
      "metadata": {
        "id": "bKB2qUPl8M6S",
        "colab_type": "code",
        "colab": {}
      },
      "source": [
        "train_labels = train_dataset.pop('Salida')\n",
        "test_labels = test_dataset.pop('Salida')"
      ],
      "execution_count": null,
      "outputs": []
    },
    {
      "cell_type": "markdown",
      "metadata": {
        "id": "_Nta-g-XwAkm",
        "colab_type": "text"
      },
      "source": [
        "Normalizo los datos. Es una buena práctica normalizar funciones que utilizan diferentes escalas y rangos. Aunque el modelo * podría * converger sin normalización de características, dificulta el entrenamiento y hace que el modelo resultante dependa de la elección de las unidades utilizadas en la entrada."
      ]
    },
    {
      "cell_type": "markdown",
      "metadata": {
        "id": "5HYJofKMwJml",
        "colab_type": "text"
      },
      "source": [
        "**Nota:** Aunque generamos intencionalmente estas estadísticas solo del conjunto de datos de entrenamiento, estas estadísticas también se utilizarán para normalizar el conjunto de datos de prueba. Necesitamos hacer eso para proyectar el conjunto de datos de prueba en la misma distribución en la que el modelo ha sido entrenado."
      ]
    },
    {
      "cell_type": "code",
      "metadata": {
        "id": "4p-0ITd9ShNF",
        "colab_type": "code",
        "colab": {}
      },
      "source": [
        "def norm(x):\n",
        "  return (x - train_stats['mean']) / train_stats['std']\n",
        "\n",
        "normed_train_data = norm(train_dataset)\n",
        "normed_test_data = norm(test_dataset)"
      ],
      "execution_count": null,
      "outputs": []
    },
    {
      "cell_type": "markdown",
      "metadata": {
        "id": "nLzvrozawR6W",
        "colab_type": "text"
      },
      "source": [
        "Listo las opciones de función de activación que tiene el módulo "
      ]
    },
    {
      "cell_type": "code",
      "metadata": {
        "id": "-E_AFBQQSnlW",
        "colab_type": "code",
        "colab": {}
      },
      "source": [
        "dir(keras.activations)\n",
        "# Puedo encontrar información de cada uno en:\n",
        "# https://keras.io/api/layers/activations/"
      ],
      "execution_count": null,
      "outputs": []
    },
    {
      "cell_type": "markdown",
      "metadata": {
        "id": "LhcAJf8jwU21",
        "colab_type": "text"
      },
      "source": [
        "Listo las opciones de función de activación que tiene el módulo "
      ]
    },
    {
      "cell_type": "code",
      "metadata": {
        "id": "paLdGZkXWCqA",
        "colab_type": "code",
        "colab": {}
      },
      "source": [
        "dir(keras.optimizers)\n",
        "# Puedo encontrar información de cada uno en:\n",
        "# https://keras.io/api/optimizers/"
      ],
      "execution_count": null,
      "outputs": []
    },
    {
      "cell_type": "markdown",
      "metadata": {
        "id": "u31NKY9mwl4z",
        "colab_type": "text"
      },
      "source": [
        "Construyo el modelo"
      ]
    },
    {
      "cell_type": "code",
      "metadata": {
        "id": "6RlHg8p-N6Ri",
        "colab_type": "code",
        "colab": {}
      },
      "source": [
        "model = keras.Sequential([\n",
        "  layers.Dense(10, activation='sigmoid', input_shape=[len(train_dataset.keys())]),\n",
        "  layers.Dense(10, activation='tanh'),\n",
        "  layers.Dense(1)\n",
        "])\n",
        "\n",
        "optimizer = keras.optimizers.RMSprop(0.001)\n",
        "\n",
        "model.compile(loss='mse',\n",
        "              optimizer=optimizer,\n",
        "              metrics=['mae', 'mse'])"
      ],
      "execution_count": null,
      "outputs": []
    },
    {
      "cell_type": "markdown",
      "metadata": {
        "id": "spvqO_rJxBT2",
        "colab_type": "text"
      },
      "source": [
        "Inspecciono el modelo"
      ]
    },
    {
      "cell_type": "code",
      "metadata": {
        "id": "KdpGwWJ3N_iD",
        "colab_type": "code",
        "colab": {}
      },
      "source": [
        "model.summary()"
      ],
      "execution_count": null,
      "outputs": []
    },
    {
      "cell_type": "markdown",
      "metadata": {
        "id": "atKbwkcvxNbW",
        "colab_type": "text"
      },
      "source": [
        "Me fijo si la salida tiene la forma esperada"
      ]
    },
    {
      "cell_type": "code",
      "metadata": {
        "id": "W3afBPzkOBPK",
        "colab_type": "code",
        "colab": {}
      },
      "source": [
        "example_batch = normed_train_data[:10]\n",
        "example_result = model.predict(example_batch)\n",
        "example_result"
      ],
      "execution_count": null,
      "outputs": []
    },
    {
      "cell_type": "markdown",
      "metadata": {
        "id": "xXIUBksbxZCN",
        "colab_type": "text"
      },
      "source": [
        "Entreno el modelo durante 1000 épocas y registro la precisión de entrenamiento y validación en el objeto history. Defino un parámetro de paciencia, para dejar de entrenar luego de 10 iteraciones sin una mejora.\n",
        "\n",
        "\n",
        "Separo los datos de validación de los de entrenamiento."
      ]
    },
    {
      "cell_type": "markdown",
      "metadata": {
        "colab_type": "text",
        "id": "9v4LsCHS4Chf"
      },
      "source": [
        "**NOTA:** Cada vez que lo desee, ejecuto el siguiente código para borrar los logs de sesiones previas."
      ]
    },
    {
      "cell_type": "code",
      "metadata": {
        "colab_type": "code",
        "id": "6_4effd_4CiB",
        "colab": {}
      },
      "source": [
        "# !rm -rf ./logs/ "
      ],
      "execution_count": null,
      "outputs": []
    },
    {
      "cell_type": "code",
      "metadata": {
        "id": "qWgnrDJNt9NY",
        "colab_type": "code",
        "colab": {}
      },
      "source": [
        "log_dir = \"logs/fit/\" + datetime.datetime.now().strftime(\"%Y%m%d-%H%M%S\")\n",
        "tensorboard_callback = keras.callbacks.TensorBoard(log_dir=log_dir, histogram_freq=1)\n",
        "\n",
        "# The patience parameter is the amount of epochs to check for improvement\n",
        "early_stop = keras.callbacks.EarlyStopping(monitor='val_loss', patience=10)\n",
        "\n",
        "EPOCHS = 1000\n",
        "\n",
        "history = model.fit(\n",
        "  normed_train_data, train_labels,\n",
        "  epochs=EPOCHS, validation_split = 0.2,\n",
        "  callbacks=[early_stop, tensorboard_callback])"
      ],
      "execution_count": null,
      "outputs": []
    },
    {
      "cell_type": "markdown",
      "metadata": {
        "id": "e3pFJWGGxs9s",
        "colab_type": "text"
      },
      "source": [
        "Ejecuto la herramienta gráfica *Tensorboard* para evaluar el comportamiento del modelo."
      ]
    },
    {
      "cell_type": "code",
      "metadata": {
        "id": "y0E_YYz1PFJ3",
        "colab_type": "code",
        "colab": {}
      },
      "source": [
        "%tensorboard --logdir logs/fit"
      ],
      "execution_count": null,
      "outputs": []
    },
    {
      "cell_type": "markdown",
      "metadata": {
        "id": "1MskmDVxyBIq",
        "colab_type": "text"
      },
      "source": [
        "Más allá de la herramienta, puedo analizar la información del modelo evaluando el objeto history."
      ]
    },
    {
      "cell_type": "markdown",
      "metadata": {
        "id": "yPGwc1YRx3GO",
        "colab_type": "text"
      },
      "source": [
        "Miro los últimos elementos del entrenamiento"
      ]
    },
    {
      "cell_type": "code",
      "metadata": {
        "id": "PmEU666SODaI",
        "colab_type": "code",
        "colab": {}
      },
      "source": [
        "hist = pd.DataFrame(history.history)\n",
        "hist['epoch'] = history.epoch\n",
        "hist.tail()"
      ],
      "execution_count": null,
      "outputs": []
    },
    {
      "cell_type": "markdown",
      "metadata": {
        "id": "Uom34utiyS9-",
        "colab_type": "text"
      },
      "source": [
        "Probamos ahora cómo predice el modelo para los datos de testeo que fueron separados antes del entrenamiento."
      ]
    },
    {
      "cell_type": "code",
      "metadata": {
        "id": "2tdYx65Vb6_s",
        "colab_type": "code",
        "colab": {}
      },
      "source": [
        "loss, mae, mse = model.evaluate(normed_test_data, test_labels, verbose=2)\n",
        "\n",
        "print(\"Testing set Mean Abs Error: {:5.2f}\".format(mae))"
      ],
      "execution_count": null,
      "outputs": []
    },
    {
      "cell_type": "markdown",
      "metadata": {
        "id": "Yf7m-V3qT5Ac",
        "colab_type": "text"
      },
      "source": [
        "También podemos verificar la red haciendo nuestros propios gráficos con el módulo *matplotlib*, como veníamos haciendo hasta ahora."
      ]
    },
    {
      "cell_type": "markdown",
      "metadata": {
        "id": "pDAFUID2yMWA",
        "colab_type": "text"
      },
      "source": [
        "Grafico el error y el error cuadrático"
      ]
    },
    {
      "cell_type": "code",
      "metadata": {
        "id": "uJhxKAKma25y",
        "colab_type": "code",
        "colab": {}
      },
      "source": [
        "import matplotlib.pyplot as plt\n",
        "\n",
        "hist = pd.DataFrame(history.history)\n",
        "hist['epoch'] = history.epoch\n",
        "\n",
        "plt.figure()\n",
        "plt.xlabel('Epoch')\n",
        "plt.ylabel('Mean Abs Error')\n",
        "plt.plot(hist['epoch'], hist['mae'],\n",
        "          label='Train Error')\n",
        "plt.plot(hist['epoch'], hist['val_mae'],\n",
        "          label = 'Val Error')\n",
        "plt.ylim([0,5])\n",
        "plt.legend()\n",
        "\n",
        "plt.figure()\n",
        "plt.xlabel('Epoch')\n",
        "plt.ylabel('Mean Square Error [$^2$]')\n",
        "plt.plot(hist['epoch'], hist['mse'],\n",
        "          label='Train Error')\n",
        "plt.plot(hist['epoch'], hist['val_mse'],\n",
        "          label = 'Val Error')\n",
        "plt.ylim([0,20])\n",
        "plt.legend()\n",
        "plt.show()"
      ],
      "execution_count": null,
      "outputs": []
    },
    {
      "cell_type": "markdown",
      "metadata": {
        "id": "3loAdmqZyiro",
        "colab_type": "text"
      },
      "source": [
        "Hago predicciones utilizando el conjunto de prueba."
      ]
    },
    {
      "cell_type": "code",
      "metadata": {
        "id": "0ERHfUrKcAPD",
        "colab_type": "code",
        "colab": {}
      },
      "source": [
        "test_predictions = model.predict(normed_test_data).flatten()\n",
        "\n",
        "plt.scatter(test_labels, test_predictions)\n",
        "plt.xlabel('True Values')\n",
        "plt.ylabel('Predictions')\n",
        "plt.axis('equal')\n",
        "plt.axis('square')\n",
        "plt.xlim([0,plt.xlim()[1]])\n",
        "plt.ylim([0,plt.ylim()[1]])\n",
        "_ = plt.plot([-100, 100], [-100, 100])\n"
      ],
      "execution_count": null,
      "outputs": []
    },
    {
      "cell_type": "markdown",
      "metadata": {
        "id": "_bl3AoPTyqI2",
        "colab_type": "text"
      },
      "source": [
        "Hago un histograma para graficar la distribución de errores."
      ]
    },
    {
      "cell_type": "code",
      "metadata": {
        "id": "D6xl1oRycOQu",
        "colab_type": "code",
        "colab": {}
      },
      "source": [
        "error = test_predictions - test_labels\n",
        "plt.hist(error, bins = 25)\n",
        "plt.xlabel(\"Prediction Error\")\n",
        "_ = plt.ylabel(\"Count\")"
      ],
      "execution_count": null,
      "outputs": []
    },
    {
      "cell_type": "markdown",
      "metadata": {
        "colab_type": "text",
        "id": "t28br5OmGVlJ"
      },
      "source": [
        "## Ejemplo XOR"
      ]
    },
    {
      "cell_type": "markdown",
      "metadata": {
        "colab_type": "text",
        "id": "0q1FlyEqGVlY"
      },
      "source": [
        "Cargo [*Tensorboard*](https://www.tensorflow.org/tensorboard), la herramienta gráfica de visualización de modelos de *Tensorflow*."
      ]
    },
    {
      "cell_type": "code",
      "metadata": {
        "colab_type": "code",
        "id": "3OPpzP1DGVla",
        "colab": {
          "base_uri": "https://localhost:8080/",
          "height": 51
        },
        "outputId": "7a7ed1b8-abf0-45ec-9a8e-28e18001f291"
      },
      "source": [
        "%load_ext tensorboard"
      ],
      "execution_count": null,
      "outputs": [
        {
          "output_type": "stream",
          "text": [
            "The tensorboard extension is already loaded. To reload it, use:\n",
            "  %reload_ext tensorboard\n"
          ],
          "name": "stdout"
        }
      ]
    },
    {
      "cell_type": "markdown",
      "metadata": {
        "colab_type": "text",
        "id": "JUellO6FGVlj"
      },
      "source": [
        "Borro logs de sesiones previas"
      ]
    },
    {
      "cell_type": "code",
      "metadata": {
        "colab_type": "code",
        "id": "SUlIdnlPGVll",
        "colab": {}
      },
      "source": [
        "!rm -rf ./logs/"
      ],
      "execution_count": null,
      "outputs": []
    },
    {
      "cell_type": "markdown",
      "metadata": {
        "colab_type": "text",
        "id": "sikxOJArGVlr"
      },
      "source": [
        "Importo módulos a utilizar"
      ]
    },
    {
      "cell_type": "code",
      "metadata": {
        "colab_type": "code",
        "id": "RvzhyKG2GVls",
        "colab": {}
      },
      "source": [
        "import numpy as np\n",
        "import pandas as pd\n",
        "import datetime\n",
        "\n",
        "from tensorflow import keras\n",
        "from tensorflow.keras import layers"
      ],
      "execution_count": null,
      "outputs": []
    },
    {
      "cell_type": "markdown",
      "metadata": {
        "colab_type": "text",
        "id": "b22oSXbAGVlz"
      },
      "source": [
        "Genero las series temporales"
      ]
    },
    {
      "cell_type": "code",
      "metadata": {
        "colab_type": "code",
        "id": "lmmRG-r7GVl0",
        "colab": {}
      },
      "source": [
        "p = np.zeros((2, 4))\n",
        "t = np.zeros((1, 4))\n",
        "p[0] = [0, 1, 0, 1]\n",
        "p[1] = [0, 0, 1, 1]\n",
        "t[0] = [0, 1, 1, 0]"
      ],
      "execution_count": null,
      "outputs": []
    },
    {
      "cell_type": "markdown",
      "metadata": {
        "colab_type": "text",
        "id": "MKH07ZM6GVl9"
      },
      "source": [
        "Creo el dataframe y miro los primeros datos para ver que tenga la forma esperada"
      ]
    },
    {
      "cell_type": "code",
      "metadata": {
        "colab_type": "code",
        "id": "yXk9RggYGVl-",
        "colab": {}
      },
      "source": [
        "dataset = pd.DataFrame({'Entrada 1': p[0, :], 'Entrada 2': p[1,:], 'Salida': t[0, :]})\n",
        "\n",
        "dataset.head()"
      ],
      "execution_count": null,
      "outputs": []
    },
    {
      "cell_type": "markdown",
      "metadata": {
        "colab_type": "text",
        "id": "bORAn5dLGVmG"
      },
      "source": [
        "Separo los datos de entrenamiento de los de pruebas.\n",
        "\n",
        "**NOTA:** En este caso usamos todos los datos para entrenar."
      ]
    },
    {
      "cell_type": "code",
      "metadata": {
        "colab_type": "code",
        "id": "brcSs8SpGVmH",
        "colab": {}
      },
      "source": [
        "train_dataset = dataset.sample(frac=1.0,random_state=0)\n",
        "test_dataset = dataset.drop(train_dataset.index)\n",
        "print(train_dataset)"
      ],
      "execution_count": null,
      "outputs": []
    },
    {
      "cell_type": "markdown",
      "metadata": {
        "colab_type": "text",
        "id": "AJ-t__LMGVmV"
      },
      "source": [
        "Separo el valor objetivo, o la \"etiqueta\" de las características. Esta etiqueta es el valor que entrenará el modelo para predecir."
      ]
    },
    {
      "cell_type": "code",
      "metadata": {
        "colab_type": "code",
        "id": "z3G_vHbIGVmX",
        "colab": {}
      },
      "source": [
        "train_labels = train_dataset.pop('Salida')\n",
        "test_labels = test_dataset.pop('Salida')"
      ],
      "execution_count": null,
      "outputs": []
    },
    {
      "cell_type": "markdown",
      "metadata": {
        "colab_type": "text",
        "id": "GhmkFS_AGVmn"
      },
      "source": [
        "Listo las opciones de función de activación que tiene el módulo "
      ]
    },
    {
      "cell_type": "code",
      "metadata": {
        "colab_type": "code",
        "id": "a08xJ2B8GVmo",
        "colab": {}
      },
      "source": [
        "dir(keras.activations)\n",
        "# Puedo encontrar información de cada uno en:\n",
        "# https://keras.io/api/layers/activations/"
      ],
      "execution_count": null,
      "outputs": []
    },
    {
      "cell_type": "markdown",
      "metadata": {
        "colab_type": "text",
        "id": "c3Z93tljGVmr"
      },
      "source": [
        "Listo las opciones de función de activación que tiene el módulo "
      ]
    },
    {
      "cell_type": "code",
      "metadata": {
        "colab_type": "code",
        "id": "5T-xKZRjGVms",
        "colab": {}
      },
      "source": [
        "dir(keras.optimizers)\n",
        "# Puedo encontrar información de cada uno en:\n",
        "# https://keras.io/api/optimizers/"
      ],
      "execution_count": null,
      "outputs": []
    },
    {
      "cell_type": "markdown",
      "metadata": {
        "colab_type": "text",
        "id": "n27mDr8vGVmw"
      },
      "source": [
        "Construyo el modelo"
      ]
    },
    {
      "cell_type": "code",
      "metadata": {
        "colab_type": "code",
        "id": "BlDnH7qxGVoH",
        "colab": {}
      },
      "source": [
        "model = keras.Sequential([\n",
        "    layers.Dense(2, activation='tanh', input_shape=[len(train_dataset.keys())]),\n",
        "  layers.Dense(1)\n",
        "])\n",
        "\n",
        "optimizer = keras.optimizers.Adam(0.2)\n",
        "\n",
        "model.compile(loss='mse',\n",
        "              optimizer=optimizer,\n",
        "              metrics=['mae', 'mse'])"
      ],
      "execution_count": null,
      "outputs": []
    },
    {
      "cell_type": "markdown",
      "metadata": {
        "colab_type": "text",
        "id": "YCWmeh_VGVoN"
      },
      "source": [
        "Inspecciono el modelo"
      ]
    },
    {
      "cell_type": "code",
      "metadata": {
        "colab_type": "code",
        "id": "V561OvtzGVoN",
        "colab": {}
      },
      "source": [
        "model.summary()"
      ],
      "execution_count": null,
      "outputs": []
    },
    {
      "cell_type": "markdown",
      "metadata": {
        "colab_type": "text",
        "id": "Y8v2AFk4GVoS"
      },
      "source": [
        "Me fijo si la salida tiene la forma esperada"
      ]
    },
    {
      "cell_type": "code",
      "metadata": {
        "colab_type": "code",
        "id": "7HltPCh2GVoT",
        "colab": {}
      },
      "source": [
        "example_batch = train_dataset[:10]\n",
        "example_result = model.predict(example_batch)\n",
        "example_result"
      ],
      "execution_count": null,
      "outputs": []
    },
    {
      "cell_type": "markdown",
      "metadata": {
        "colab_type": "text",
        "id": "qofDYLphGVoY"
      },
      "source": [
        "Entreno el modelo durante 1000 épocas y registro la precisión de entrenamiento y validación en el objeto history. Defino un parámetro de paciencia, para dejar de entrenar luego de 10 iteraciones sin una mejora.\n",
        "\n",
        "Separo los datos de validación de los de entrenamiento.\n",
        "\n",
        "\n",
        "**Nota:** En este caso usamos todos los datos para entrenar."
      ]
    },
    {
      "cell_type": "markdown",
      "metadata": {
        "colab_type": "text",
        "id": "7CNJS1x0GVoY"
      },
      "source": [
        "Cada vez que lo desee, ejecuto el siguiente código para borrar los logs de sesiones previas."
      ]
    },
    {
      "cell_type": "code",
      "metadata": {
        "colab_type": "code",
        "id": "mpzavA6IGVoc",
        "colab": {}
      },
      "source": [
        "# !rm -rf ./logs/ "
      ],
      "execution_count": null,
      "outputs": []
    },
    {
      "cell_type": "code",
      "metadata": {
        "colab_type": "code",
        "id": "88A8xxUKGVoh",
        "colab": {}
      },
      "source": [
        "log_dir = \"logs/fit/\" + datetime.datetime.now().strftime(\"%Y%m%d-%H%M%S\")\n",
        "tensorboard_callback = keras.callbacks.TensorBoard(log_dir=log_dir, histogram_freq=1)\n",
        "\n",
        "# The patience parameter is the amount of epochs to check for improvement\n",
        "early_stop = keras.callbacks.EarlyStopping(monitor='val_loss', patience=5)\n",
        "\n",
        "EPOCHS = 150\n",
        "\n",
        "history = model.fit(\n",
        "  train_dataset, train_labels,\n",
        "  epochs=EPOCHS, validation_split = 0,\n",
        "  callbacks=[early_stop, tensorboard_callback])"
      ],
      "execution_count": null,
      "outputs": []
    },
    {
      "cell_type": "markdown",
      "metadata": {
        "colab_type": "text",
        "id": "F-MkuzhvGVol"
      },
      "source": [
        "Ejecuto una herramienta gráfica para evaluar el comportamiento del modelo."
      ]
    },
    {
      "cell_type": "code",
      "metadata": {
        "colab_type": "code",
        "id": "JqdTqIySGVol",
        "colab": {}
      },
      "source": [
        "%tensorboard --logdir logs/fit"
      ],
      "execution_count": null,
      "outputs": []
    },
    {
      "cell_type": "markdown",
      "metadata": {
        "colab_type": "text",
        "id": "P0NzVAAMGVop"
      },
      "source": [
        "Más allá de la herramienta, puedo analizar la información del modelo evaluando el objeto history."
      ]
    },
    {
      "cell_type": "markdown",
      "metadata": {
        "colab_type": "text",
        "id": "S0b8BAgsGVop"
      },
      "source": [
        "Miro los últimos elementos del entrenamiento"
      ]
    },
    {
      "cell_type": "code",
      "metadata": {
        "colab_type": "code",
        "id": "V59teEMdGVoq",
        "colab": {}
      },
      "source": [
        "hist = pd.DataFrame(history.history)\n",
        "hist['epoch'] = history.epoch\n",
        "hist.tail()"
      ],
      "execution_count": null,
      "outputs": []
    },
    {
      "cell_type": "markdown",
      "metadata": {
        "colab_type": "text",
        "id": "FqG-iGADGVo1"
      },
      "source": [
        "Hago predicciones utilizando los datos de entrenamiento\n"
      ]
    },
    {
      "cell_type": "code",
      "metadata": {
        "colab_type": "code",
        "id": "WYDcXO_GGVo3",
        "colab": {}
      },
      "source": [
        "resultado = model.predict(train_dataset)\n",
        "print(train_dataset)\n",
        "print(\"\\nResultado\\n\" + str(np.round_(resultado, 1)))\n",
        "print(\"\\nValor esperado\")\n",
        "print(train_labels)"
      ],
      "execution_count": null,
      "outputs": []
    },
    {
      "cell_type": "markdown",
      "metadata": {
        "colab_type": "text",
        "id": "Er6Ca3QUQly2"
      },
      "source": [
        "## Bibliografía"
      ]
    },
    {
      "cell_type": "markdown",
      "metadata": {
        "colab_type": "text",
        "id": "dmDVBohtQly8"
      },
      "source": [
        "La base la tomé de:\n",
        "\n",
        "https://www.tensorflow.org/tensorboard/get_started\n",
        "\n",
        "https://www.tensorflow.org/tutorials/keras/regression\n",
        "\n",
        "https://towardsdatascience.com/building-a-deep-learning-model-using-keras-1548ca149d37"
      ]
    }
  ]
}