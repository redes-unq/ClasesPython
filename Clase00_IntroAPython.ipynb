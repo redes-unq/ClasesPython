{
  "nbformat": 4,
  "nbformat_minor": 0,
  "metadata": {
    "colab": {
      "name": "Clase00_IntroAPython.ipynb",
      "provenance": [],
      "collapsed_sections": [
        "QPGoqgwYr7q6",
        "jwEpMM2VgLdl"
      ],
      "toc_visible": true
    },
    "kernelspec": {
      "name": "python3",
      "display_name": "Python 3"
    }
  },
  "cells": [
    {
      "cell_type": "markdown",
      "metadata": {
        "id": "9DsFQW4ZyJ3n"
      },
      "source": [
        "<p><img alt=\"UNQ logo\" height=\"45px\" src=\"http://www.unq.edu.ar/images/logo_unqui_footer.png\" align=\"left\" hspace=\"10px\" vspace=\"0px\"></p><h1>Redes Neuronales y Lógica Difusa</h1>"
      ]
    },
    {
      "cell_type": "markdown",
      "metadata": {
        "id": "LAqyALQrzGMS"
      },
      "source": [
        "#**Breve introducción a Google Colaboratory**"
      ]
    },
    {
      "cell_type": "markdown",
      "metadata": {
        "id": "A9lRO760zKe2"
      },
      "source": [
        "<p><img alt=\"Colaboratory logo\" height=\"45px\" src=\"/img/colab_favicon.ico\" align=\"left\" hspace=\"10px\" vspace=\"0px\"></p>\n",
        "\n",
        "<h1>¿Qué es Colaboratory?</h1>\n",
        "\n",
        "Colab te permite ejecutar y realizar scripts de [**Python**](https://www.python.org/) en tu navegador, entre sus ventajas se destacan:\n",
        "- No requiere configuración\n",
        "- Acceso gratuito a GPUs\n",
        "- Compartir fácilmente\n",
        "\n",
        "No se pierdan el vídeo de <a href=\"https://www.youtube.com/watch?v=inN8seMm7UI\">introducción a Colab</a> para obtener más información."
      ]
    },
    {
      "cell_type": "markdown",
      "metadata": {
        "id": "i_IDrjRvz28Z"
      },
      "source": [
        "## <strong>Primeros pasos</strong>\n",
        "\n",
        "El documento que están leyendo no es una página web estática, sino un entorno interactivo denominado <strong>cuaderno de Colab</strong> que permite escribir y ejecutar código.\n",
        "\n",
        "Por ejemplo, a continuación se muestra una <strong>celda de código</strong> con una breve secuencia de comandos de Python que calcula un valor, lo almacena en una variable e imprime el resultado:"
      ]
    },
    {
      "cell_type": "code",
      "metadata": {
        "id": "gJr_9dXGpJ05"
      },
      "source": [
        "segundosEnUnDia = 24 * 60 * 60\n",
        "segundosEnUnDia"
      ],
      "execution_count": null,
      "outputs": []
    },
    {
      "cell_type": "markdown",
      "metadata": {
        "id": "2fhs6GZ4qFMx"
      },
      "source": [
        "Si quieren ejecutar el código de la celda anterior, hagan clic para seleccionarlo y pulsen el botón de reproducir ubicado a la izquierda del código. Para editar el código, tienen que hacer clic en la celda.\n",
        "\n",
        "Las variables que definan en una celda se pueden usar después en otras celdas:"
      ]
    },
    {
      "cell_type": "code",
      "metadata": {
        "id": "-gE-Ez1qtyIA"
      },
      "source": [
        "segundosEnUnaSemana = 7 * segundosEnUnDia\n",
        "segundosEnUnaSemana"
      ],
      "execution_count": null,
      "outputs": []
    },
    {
      "cell_type": "markdown",
      "metadata": {
        "id": "lSrWNr3MuFUS"
      },
      "source": [
        "Los cuadernos de Colab te permiten combinar <strong>código ejecutable</strong> y <strong>texto enriquecido</strong> en un mismo documento, además de <strong>imágenes</strong>, <strong>HTML</strong>, <strong>LaTeX</strong> y mucho más. Los cuadernos que creas en Colab se almacenan en tu cuenta de Google Drive. Puedes compartir tus cuadernos de Colab fácilmente con compañeros de trabajo o amigos, lo que les permite comentarlos o incluso editarlos. Consulta más información en <a href=\"/notebooks/basic_features_overview.ipynb\">Introducción a Colab</a>. Para crear un cuaderno de Colab, puedes usar el menú Archivo que aparece arriba o bien acceder al enlace para <a href=\"http://colab.research.google.com#create=true\">crear un cuaderno de Colab</a>.\n",
        "\n",
        "Los cuadernos de Colab son cuadernos de Jupyter alojados en Colab. Para obtener más información sobre el proyecto Jupyter, visita <a href=\"https://www.jupyter.org\">jupyter.org</a>."
      ]
    },
    {
      "cell_type": "markdown",
      "metadata": {
        "id": "fwwNGrPKGhyN"
      },
      "source": [
        "## Algunos atajos útiles:"
      ]
    },
    {
      "cell_type": "markdown",
      "metadata": {
        "id": "883iG0KiGgYw"
      },
      "source": [
        "* Pulsando **Ctrl+Enter** pueden ejecutar la celda actual.\n",
        "* Pulsando **Shift+Enter** pueden ejecutar la celda y mover el foco a la próxima celda (agregando una nueva si es que no existe).\n",
        "* Pulsando **Alt+Enter** pueden correr la celda e insertar una nueva a continuación."
      ]
    },
    {
      "cell_type": "markdown",
      "metadata": {
        "id": "OrA7vnXugaxC"
      },
      "source": [
        "#**Introducción a Python**"
      ]
    },
    {
      "cell_type": "markdown",
      "metadata": {
        "id": "wAiA_9S5iCGg"
      },
      "source": [
        "**Python** es un lenguaje simple y fácil de aprender, de programación multiparadigma, interpretado, dinámico y multiplataforma.\n",
        "Una de las mayores razones por las cuales es tan potente y práctico, es debido a que se pueden agregar al lenguaje muchas propiedades mediante la importación de módulos, los cuales proveen funciones y clases para realizar determinadas tareas.\n",
        "Hay un módulo que utilizaremos muy a menudo llamado **pip**, el cual nos permite instalar otros módulos de forma muy amigable, así como también a mantenerlos actualizados de una manera muy sencilla.\n",
        "\n",
        "En este curso, nos vamos a enfocar en el uso de **Python** como una alternativa libre y potente a **MATLAB**. Al ser un programa de código abierto ya no tenemos que depender de licencias costosas, además, podemos utilizarlo en computadoras con pocos recursos (incluso si lo utilizamos sobre plataformas como Google Colab podemos ejecutar nuestros scripts en nuestros smartphones)."
      ]
    },
    {
      "cell_type": "markdown",
      "metadata": {
        "id": "Q-t_kO2P4YoD"
      },
      "source": [
        "## Módulos de interés"
      ]
    },
    {
      "cell_type": "markdown",
      "metadata": {
        "id": "UmAO7awx32pp"
      },
      "source": [
        "A lo largo del curso les vamos a ir presentando distintos módulos para realizar funciones más específicas, los cuales deberán ser instalados utilizando **pip**. Pero para empezar vamos a utilizar módulos que ya vienen pre instalados por ser parte de la librería estándar de **Python**, con los cuales podrán realizar las mismas operaciones que utilizan en **MATLAB** (incluso de una forma bastante similar). Antes de utilizar los módulos, tenemos que importarlos. \n",
        "\n",
        "A continuación importaremos el módulo *pyplot* del módulo *matplotlib* y le apodaremos *plt*. [*Matplotlib*](https://matplotlib.org/) nos brinda métodos que sirven para realizar cualquier tipo de gráficos. Por otro lado importaremos el módulo *numpy* y lo apodaremos *np*. [*Numpy*](https://numpy.org/) nos brinda métodos que nos van a auxiliar en el manejo de vectores y matrices, así como también en el cálculo de funciones matemáticas de alto nivel."
      ]
    },
    {
      "cell_type": "code",
      "metadata": {
        "id": "AWL6ZXi7ATyX"
      },
      "source": [
        "import matplotlib.pyplot as plt\n",
        "import numpy as np"
      ],
      "execution_count": null,
      "outputs": []
    },
    {
      "cell_type": "markdown",
      "metadata": {
        "id": "p94aZlW3mdiM"
      },
      "source": [
        "Si quisiera ver un listado de los métodos que se encuentran dentro de plt o np, podría hacerlo utilizando el método *dir*, que es parte de la librería estándar de **Python**."
      ]
    },
    {
      "cell_type": "code",
      "metadata": {
        "id": "aqKFANL3nO2T"
      },
      "source": [
        "dir(plt)"
      ],
      "execution_count": null,
      "outputs": []
    },
    {
      "cell_type": "code",
      "metadata": {
        "id": "oPosq9V3nV9_"
      },
      "source": [
        "dir(np)"
      ],
      "execution_count": null,
      "outputs": []
    },
    {
      "cell_type": "markdown",
      "metadata": {
        "id": "qIcQjqqFAlS3"
      },
      "source": [
        "Preparamos los datos a graficar"
      ]
    },
    {
      "cell_type": "code",
      "metadata": {
        "id": "X9rrldRTMh_9"
      },
      "source": [
        "# Función para generar un vector de datos con valores equiespaciados entre un min y un max\n",
        "t = np.arange(0.0, 2.0, 0.01)\n",
        "\n",
        "# Multiplico 220.0 por la función seno (su definición se encuentra dentro de numpy, el cual apodamos como np) de pi (definido en numpy) por el vector t\n",
        "s = 220.0 * np.sin(np.pi * t)"
      ],
      "execution_count": null,
      "outputs": []
    },
    {
      "cell_type": "markdown",
      "metadata": {
        "id": "HJkJbWzyM70K"
      },
      "source": [
        "Mostramos los primeros seis elementos de los datos"
      ]
    },
    {
      "cell_type": "code",
      "metadata": {
        "id": "SnNAe21ZM5U1"
      },
      "source": [
        "print(\"t: \" + str(t[:6]) + \"...\")\n",
        "print(\"s: \" + str(s[:6]) + \"...\")"
      ],
      "execution_count": null,
      "outputs": []
    },
    {
      "cell_type": "markdown",
      "metadata": {
        "id": "y45UaHfTMkIh"
      },
      "source": [
        "Graficamos los datos"
      ]
    },
    {
      "cell_type": "code",
      "metadata": {
        "id": "_2Ivec0rAsLz"
      },
      "source": [
        "fig, ax = plt.subplots()\n",
        "ax.plot(t, s)\n",
        "\n",
        "ax.set(xlabel=\"Tiempo [s]\", ylabel=\"Tensión [V]\",\n",
        "       title=\"Bienvenidos a Python\")\n",
        "ax.grid()\n",
        "\n",
        "# Puedo guardar la imagen en un archivo\n",
        "fig.savefig(\"Test.png\")\n",
        "plt.show()"
      ],
      "execution_count": null,
      "outputs": []
    },
    {
      "cell_type": "markdown",
      "metadata": {
        "id": "0kPiJNeRrwUw"
      },
      "source": [
        "### Pequeño ejercicio"
      ]
    },
    {
      "cell_type": "markdown",
      "metadata": {
        "id": "bVbo6EXJnhle"
      },
      "source": [
        "Habiendo visto el programa de ejemplo, ¿se animan a completar el siguiente código para graficar esta vez las funciones $x$, $x^2$ y $x^3$?"
      ]
    },
    {
      "cell_type": "code",
      "metadata": {
        "id": "ks-UawhlpCGp"
      },
      "source": [
        "# ----------------------------- Si ya importaron esto más arriba, no es necesario hacerlo otra vez  -----------------------------\n",
        "import matplotlib.pyplot as plt\n",
        "import numpy as np\n",
        "# -------------------------------------------------------------------------------------------------------------------------------\n",
        "\n",
        "# Creo la figura\n",
        "fig, ax = plt.subplots()\n",
        "\n",
        "# Creo los datos del eje del tiempo\n",
        "t = np.arange(-2.0, 2.0, 0.1)\n",
        "\n",
        "# Defino la función x\n",
        "x = t\n",
        "\n",
        "# A partir de acá siguen ustedes ;)\n",
        "# Traten de no mirar la respuesta."
      ],
      "execution_count": null,
      "outputs": []
    },
    {
      "cell_type": "markdown",
      "metadata": {
        "id": "QPGoqgwYr7q6"
      },
      "source": [
        "### Respuesta oculta"
      ]
    },
    {
      "cell_type": "code",
      "metadata": {
        "id": "pvQJxyXssA6w"
      },
      "source": [
        "# ----------------------------- Si ya importaron esto más arriba, no es necesario hacerlo otra vez  -----------------------------\n",
        "import matplotlib.pyplot as plt\n",
        "import numpy as np\n",
        "# -------------------------------------------------------------------------------------------------------------------------------\n",
        "\n",
        "# Creo los datos del eje del tiempo\n",
        "t = np.arange(-2.0, 2.0, 0.1)\n",
        "\n",
        "# Defino la función x\n",
        "x = t\n",
        "# Defino la función x^2\n",
        "xAlCuadrado = t**2\n",
        "# Defino la función x^3\n",
        "xAlCubo = t**3\n",
        "\n",
        "# Creo la figura\n",
        "fig, ax = plt.subplots()\n",
        "\n",
        "# Agrego a la figura la función x\n",
        "ax.plot(t, x, label = 'x')\n",
        "\n",
        "# Agrego a la figura la función x^2\n",
        "ax.plot(t, xAlCuadrado, label = '$x^2$')\n",
        "\n",
        "# Agrego a la figura la función x^3\n",
        "ax.plot(t, xAlCubo, label = '$x^3$')\n",
        "\n",
        "# Ubico la leyenda centrada a la derecha\n",
        "fig.legend(loc = 'center right')\n",
        "\n",
        "# Etiqueto los ejes y titulo el gráfico\n",
        "ax.set(xlabel=\"Tiempo [s]\", ylabel=\"Funciones\",\n",
        "       title=\"Pequeño ejercicio resuelto\")\n",
        "\n",
        "# Muestro la grilla\n",
        "ax.grid()\n",
        "\n",
        "# Muestro la imagen\n",
        "plt.show()"
      ],
      "execution_count": null,
      "outputs": []
    },
    {
      "cell_type": "markdown",
      "metadata": {
        "id": "DXWaLk5qCS3n"
      },
      "source": [
        "## Alternativas Offline"
      ]
    },
    {
      "cell_type": "markdown",
      "metadata": {
        "id": "Nuz5ZE2BCXFC"
      },
      "source": [
        "Una alternativa para utilizar Python offline consiste en instalar Python y una IDE en nuestra computadora.\n",
        "\n",
        "En el repositorio de la materia encontrarán un breve <a href=\"https://github.com/redes-unq/Instructivos/blob/master/Instalaci%C3%B3n%20Python%20e%20IDE.pdf\">instructivo de instalación de Python y entorno de desarrollo</a>."
      ]
    },
    {
      "cell_type": "markdown",
      "metadata": {
        "id": "aoAsVzXHI-4k"
      },
      "source": [
        "Otra alternativa para utilizar Python offline consiste en instalar el ecosistema Anaconda en nuestra computadora. El cual instala automáticamente todo lo necesario para comenzar a utilizar Python en un entorno científico. El mismo puede ser descargado gratuitamente <a href=\"https://www.anaconda.com/\">desde su página oficial</a>.\n",
        "\n",
        "\n",
        "En el repositorio de la materia encontrarán un breve <a href=\"https://github.com/redes-unq/Instructivos/blob/master/InstructivoAnaconda.pdf\">instructivo de instalación de Anaconda</a>."
      ]
    },
    {
      "cell_type": "markdown",
      "metadata": {
        "id": "_X0osJ7TF5CW"
      },
      "source": [
        "# **Liks útiles a tener a mano a la hora de migrar a Python desde MATLAB**"
      ]
    },
    {
      "cell_type": "markdown",
      "metadata": {
        "id": "0H3TaMdaGHPi"
      },
      "source": [
        "http://mathesaurus.sourceforge.net/matlab-numpy.html\n",
        "\n",
        "https://numpy.org/doc/stable/user/numpy-for-matlab-users.html\n",
        "\n",
        "https://github.com/sympy/sympy/wiki/SymPy-vs.-Matlab"
      ]
    },
    {
      "cell_type": "markdown",
      "metadata": {
        "id": "jwEpMM2VgLdl"
      },
      "source": [
        "#**Bibliografía**"
      ]
    },
    {
      "cell_type": "markdown",
      "metadata": {
        "id": "N-F5AJ6ygPz6"
      },
      "source": [
        "\n",
        "https://www.python.org/doc/essays/blurb/\n",
        "\n",
        "https://geekytheory.com/pylab-parte-1-python-se-viste-de-matlab\n",
        "\n",
        "https://colab.research.google.com/notebooks/intro.ipynb"
      ]
    }
  ]
}